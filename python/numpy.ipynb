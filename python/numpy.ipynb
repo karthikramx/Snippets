{
 "cells": [
  {
   "cell_type": "code",
   "execution_count": 1,
   "id": "5ef5ca84",
   "metadata": {},
   "outputs": [],
   "source": [
    "import numpy as np"
   ]
  },
  {
   "cell_type": "markdown",
   "id": "fff3a1a2",
   "metadata": {},
   "source": [
    "#### Numpy Datatypes / dtypes\n",
    "In the numeric form, four data types are possible\n",
    "- int32\n",
    "- int64\n",
    "- float32\n",
    "- float64\n",
    "\n",
    "Use .astype() function to type cast <br>\n",
    "Use .dtype on an np array to get the type of elements in the array <br>\n",
    "If one string, is used in the array, all elements are coerced into strings<br>\n",
    "If one float is used in the array, all elemets are coerced into floats\n"
   ]
  },
  {
   "cell_type": "markdown",
   "id": "8a94ae15",
   "metadata": {},
   "source": [
    " #### Creating a numpy array from list, list of lists"
   ]
  },
  {
   "cell_type": "code",
   "execution_count": 7,
   "id": "17120d3d",
   "metadata": {},
   "outputs": [
    {
     "data": {
      "text/plain": [
       "array([1, 2, 3, 4, 5])"
      ]
     },
     "execution_count": 7,
     "metadata": {},
     "output_type": "execute_result"
    }
   ],
   "source": [
    "np.array([1,2,3,4,5])"
   ]
  },
  {
   "cell_type": "code",
   "execution_count": 13,
   "id": "e9cda3a1",
   "metadata": {},
   "outputs": [
    {
     "data": {
      "text/plain": [
       "array([[ 1,  2,  3,  4,  5],\n",
       "       [ 6,  7,  8,  9, 10]])"
      ]
     },
     "execution_count": 13,
     "metadata": {},
     "output_type": "execute_result"
    }
   ],
   "source": [
    "x = np.array([[1,2,3,4,5],[6,7,8,9,10]]);x"
   ]
  },
  {
   "cell_type": "markdown",
   "id": "9f83c80b",
   "metadata": {},
   "source": [
    "#### Creating a array of integers from one to 10"
   ]
  },
  {
   "cell_type": "code",
   "execution_count": 11,
   "id": "58ea78b8",
   "metadata": {},
   "outputs": [
    {
     "data": {
      "text/plain": [
       "array([ 1,  2,  3,  4,  5,  6,  7,  8,  9, 10])"
      ]
     },
     "execution_count": 11,
     "metadata": {},
     "output_type": "execute_result"
    }
   ],
   "source": [
    "np.arange(1,11)"
   ]
  },
  {
   "cell_type": "markdown",
   "id": "f5663104",
   "metadata": {},
   "source": [
    "#### Generating random nd array"
   ]
  },
  {
   "cell_type": "code",
   "execution_count": 8,
   "id": "05e2cf46",
   "metadata": {},
   "outputs": [
    {
     "data": {
      "text/plain": [
       "array([[0.97104887, 0.50727521, 0.07962171, 0.31907576, 0.11345996],\n",
       "       [0.2324218 , 0.21983954, 0.00270716, 0.9239283 , 0.65143037]])"
      ]
     },
     "execution_count": 8,
     "metadata": {},
     "output_type": "execute_result"
    }
   ],
   "source": [
    "# generating a nd-array of random numbers with 3 rows and 4 columns\n",
    "np.random.random((2,5))"
   ]
  },
  {
   "cell_type": "markdown",
   "id": "79268ce4",
   "metadata": {},
   "source": [
    " #### Flattening an array"
   ]
  },
  {
   "cell_type": "code",
   "execution_count": 14,
   "id": "53199d8d",
   "metadata": {},
   "outputs": [
    {
     "data": {
      "text/plain": [
       "array([ 1,  2,  3,  4,  5,  6,  7,  8,  9, 10])"
      ]
     },
     "execution_count": 14,
     "metadata": {},
     "output_type": "execute_result"
    }
   ],
   "source": [
    "f = x.flatten();f"
   ]
  },
  {
   "cell_type": "markdown",
   "id": "8cce8f2e",
   "metadata": {},
   "source": [
    "#### Reshaping an numpy array"
   ]
  },
  {
   "cell_type": "code",
   "execution_count": 16,
   "id": "60be6cee",
   "metadata": {},
   "outputs": [
    {
     "data": {
      "text/plain": [
       "array([[ 1,  2,  3,  4,  5],\n",
       "       [ 6,  7,  8,  9, 10]])"
      ]
     },
     "execution_count": 16,
     "metadata": {},
     "output_type": "execute_result"
    }
   ],
   "source": [
    "reshaped_array = f.reshape(2,5);reshaped_array"
   ]
  },
  {
   "cell_type": "code",
   "execution_count": 20,
   "id": "436035a7",
   "metadata": {},
   "outputs": [
    {
     "data": {
      "text/plain": [
       "array([[0, 0],\n",
       "       [0, 0],\n",
       "       [0, 0]], dtype=int32)"
      ]
     },
     "execution_count": 20,
     "metadata": {},
     "output_type": "execute_result"
    }
   ],
   "source": [
    "np.zeros((3,2),dtype=np.int32)"
   ]
  },
  {
   "cell_type": "code",
   "execution_count": 21,
   "id": "187066f6",
   "metadata": {},
   "outputs": [
    {
     "data": {
      "text/plain": [
       "array([1, 1], dtype=int8)"
      ]
     },
     "execution_count": 21,
     "metadata": {},
     "output_type": "execute_result"
    }
   ],
   "source": [
    "np.array([1.2,True],dtype=np.int8)"
   ]
  },
  {
   "cell_type": "code",
   "execution_count": null,
   "id": "41dfae7a",
   "metadata": {},
   "outputs": [],
   "source": []
  },
  {
   "cell_type": "code",
   "execution_count": null,
   "id": "78c62b61",
   "metadata": {},
   "outputs": [],
   "source": []
  }
 ],
 "metadata": {
  "kernelspec": {
   "display_name": "Python 3 (ipykernel)",
   "language": "python",
   "name": "python3"
  },
  "language_info": {
   "codemirror_mode": {
    "name": "ipython",
    "version": 3
   },
   "file_extension": ".py",
   "mimetype": "text/x-python",
   "name": "python",
   "nbconvert_exporter": "python",
   "pygments_lexer": "ipython3",
   "version": "3.9.7"
  }
 },
 "nbformat": 4,
 "nbformat_minor": 5
}
