{
 "cells": [
  {
   "cell_type": "markdown",
   "id": "351e06d3",
   "metadata": {},
   "source": [
    "### PYTHON CODE SNIPPETS"
   ]
  },
  {
   "cell_type": "markdown",
   "id": "613b162b",
   "metadata": {},
   "source": [
    "#### Decorators\n",
    "Decorator is a python feature to add functionality to an existing code. This is also called metaprogramming because a part of the program tries to modify another part of the program at compile time."
   ]
  },
  {
   "cell_type": "code",
   "execution_count": null,
   "id": "8a47c030",
   "metadata": {},
   "outputs": [],
   "source": []
  },
  {
   "cell_type": "code",
   "execution_count": null,
   "id": "2144bfab",
   "metadata": {},
   "outputs": [],
   "source": []
  },
  {
   "cell_type": "code",
   "execution_count": null,
   "id": "75982bb9",
   "metadata": {},
   "outputs": [],
   "source": []
  }
 ],
 "metadata": {
  "kernelspec": {
   "display_name": "Python 3 (ipykernel)",
   "language": "python",
   "name": "python3"
  },
  "language_info": {
   "codemirror_mode": {
    "name": "ipython",
    "version": 3
   },
   "file_extension": ".py",
   "mimetype": "text/x-python",
   "name": "python",
   "nbconvert_exporter": "python",
   "pygments_lexer": "ipython3",
   "version": "3.9.7"
  }
 },
 "nbformat": 4,
 "nbformat_minor": 5
}
